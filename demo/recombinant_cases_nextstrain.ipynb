{
 "cells": [
  {
   "cell_type": "code",
   "execution_count": 20,
   "outputs": [
    {
     "name": "stderr",
     "output_type": "stream",
     "text": [
      "WARNING:root:Corrections applied to alias_key.json suggested by Pango issues:\n",
      "WARNING:root:XA ['B.1.1.7', 'B.1.177'] -> ['B.1.177', 'B.1.1.7']\n",
      "WARNING:root:XD ['B.1.617.2*', 'BA.1*'] -> ['B.1.617.2*', 'BA.1*', 'B.1.617.2*']\n",
      "WARNING:root:XAW ['BA.2*', 'AY.122'] -> ['AY.122', 'BA.2*', 'AY.122']\n",
      "WARNING:root:XBU ['BA.2.75.3', 'BQ.1', 'BA.2.75.3'] -> ['BA.2.75*', 'BQ.1*', 'BA.2.75*']\n",
      "WARNING:root:XBD ['BA.2.75.2', 'BF.5'] -> ['BA.2.75.2', 'BA.5.2.1']\n",
      "WARNING:root:XBE ['BA.5.2', 'BE.4.1'] -> ['BA.5.2*', 'BE.4.1']\n",
      "WARNING:root:XBF ['BA.5.2.3', 'CJ.1'] -> ['BA.5.2', 'CJ.1']\n",
      "WARNING:root:XBJ ['BA.2.3.20', 'BA.5.2'] -> ['BA.2.3.20', 'BA.5.2*']\n"
     ]
    }
   ],
   "source": [
    "from tqdm import tqdm\n",
    "import os\n",
    "from recombinhunt.core.method import *\n",
    "from recombinhunt.core.environment import Environment\n",
    "from recombinhunt.validation.utils import *\n",
    "import json\n",
    "import pandas as pd\n",
    "from recombinhunt.validation.case_analysis import CaseAnalysis\n",
    "\n",
    "\n",
    "\n",
    "cl = AssessedContributingLin(\"../validation_data/alias_key.json\")\n",
    "lh = LineageHierarchy(\"../validation_data/alias_key.json\")\n",
    "env = Environment(\"../environments/env_nextstrain_2023_03_30\")"
   ],
   "metadata": {
    "collapsed": false
   }
  },
  {
   "cell_type": "code",
   "execution_count": 21,
   "outputs": [],
   "source": [
    "custom_environments = {\n",
    "    \"XBB\": Environment(\"../environments/env_nextstrain_2023_03_30\", ignore_lineage=[l for l in env.included_lineages() if l.startswith(\"XBB\") or any([sl in l for sl in (\"EG\", \"EK\", \"EL\", \"EM\", \"EU\", \"FD\", \"FE\", \"FG\", \"FH\", \"FL\")])]),\n",
    "    \"XBF\": Environment(\"../environments/env_nextstrain_2023_03_30\", ignore_lineage=[l for l in env.included_lineages() if l.startswith(\"XBF\")]),\n",
    "    \"XAY\": Environment(\"../environments/env_nextstrain_2023_03_30\", ignore_lineage=[l for l in env.included_lineages() if l.startswith(\"XAY\")]),\n",
    "    \"XP\": Environment(\"../environments/env_nextstrain_2023_03_30\", ignore_lineage=[l for l in env.included_lineages() if l.startswith(\"XBB\")])\n",
    "}"
   ],
   "metadata": {
    "collapsed": false
   }
  },
  {
   "cell_type": "code",
   "execution_count": 22,
   "outputs": [
    {
     "name": "stdout",
     "output_type": "stream",
     "text": [
      "46 7 8\n"
     ]
    }
   ],
   "source": [
    "# NUMBER OF SEQUENCES PER CASE\n",
    "with open(\"demo_input_nextstrain/samples_total.json\") as inp:\n",
    "    number_of_sequences_by_rec_case = json.load(inp)\n",
    "\n",
    "\n",
    "# CASE CLASSIFICATION\n",
    "cases_1BP = [l for l in number_of_sequences_by_rec_case.keys() if BreakpointsLocation.breakpoints_num(l) == 1 and BreakpointsLocation.ith_breakpoint(l, 0)[0] != 0]\n",
    "cases_2BP = [l for l in number_of_sequences_by_rec_case.keys() if BreakpointsLocation.breakpoints_num(l) == 2 and BreakpointsLocation.ith_breakpoint(l, 0)[0] != 0]\n",
    "# collect cases with 3+ breakpoints and inaccurate candidates/breakpoints\n",
    "cases_oth = [l for l in number_of_sequences_by_rec_case.keys() if BreakpointsLocation.breakpoints_num(l) == 0 or BreakpointsLocation.breakpoints_num(l) > 2 or BreakpointsLocation.ith_breakpoint(l, 0)[0] == 0]\n",
    "\n",
    "# TARGET OF CASE (consensus sequence)\n",
    "case2target = dict()\n",
    "for case in cases_1BP + cases_2BP + cases_oth:\n",
    "    this_case_sequences_str = []\n",
    "    with open(f\"demo_input_nextstrain/samples_{case}.csv\") as inp:\n",
    "        inp.readline()\n",
    "        for line in inp.readlines():\n",
    "            name, true_lin, nuc_changes = line.rstrip('\\n').split('\\t')\n",
    "            this_case_sequences_str.append(nuc_changes)\n",
    "    case2target[case] = [\"avg75\", case, compute_75_perc_characterization(strings=this_case_sequences_str)]\n",
    "\n",
    "\n",
    "def group_of_rec_case(rec_lineage, target_seq: list):\n",
    "    if BreakpointsLocation.breakpoints_num(rec_lineage) == 2:\n",
    "        return \"2BP\"\n",
    "    elif BreakpointsLocation.breakpoints_num(rec_lineage) == 1:\n",
    "        t_br_start, t_br_end = BreakpointsLocation.to_target_pos(BreakpointsLocation.ith_breakpoint(rec_lineage, 0), target_seq)\n",
    "        t_len = len(target_seq)\n",
    "        if t_br_start >= 10 and t_br_end <= (t_len - 10):\n",
    "            return \"1BP mid\"\n",
    "        elif t_br_start < 10:\n",
    "            return \"1BP 5'\"\n",
    "        else:\n",
    "            return \"1BP 3'\"\n",
    "    else:\n",
    "        return \"?\"\n",
    "\n",
    "cases_1BP_mid = [c for c in cases_1BP if group_of_rec_case(c, case2target[c][-1]) == '1BP mid']\n",
    "cases_1BP_5p = [c for c in cases_1BP if group_of_rec_case(c, case2target[c][-1]) == '1BP 5\\'']\n",
    "cases_1BP_3p = [c for c in cases_1BP if group_of_rec_case(c, case2target[c][-1]) == '1BP 3\\'']\n",
    "\n",
    "\n",
    "print(len(cases_1BP), len(cases_2BP), len(cases_oth))"
   ],
   "metadata": {
    "collapsed": false
   }
  },
  {
   "cell_type": "markdown",
   "source": [
    "## Run 1BP / 2BP"
   ],
   "metadata": {
    "collapsed": false
   }
  },
  {
   "cell_type": "code",
   "execution_count": 23,
   "outputs": [],
   "source": [
    "tabella_riassuntiva = []\n",
    "print_case_detail = True\n",
    "summary_table_file_path = \"demo_output_nextstrain/summary.md\"\n",
    "detailed_output_file_path = \"demo_output_nextstrain/detail.html\""
   ],
   "metadata": {
    "collapsed": false
   }
  },
  {
   "cell_type": "code",
   "execution_count": 24,
   "outputs": [],
   "source": [
    "if os.path.exists(detailed_output_file_path):\n",
    "    os.remove(detailed_output_file_path)"
   ],
   "metadata": {
    "collapsed": false
   }
  },
  {
   "cell_type": "markdown",
   "source": [
    "run"
   ],
   "metadata": {
    "collapsed": false
   }
  },
  {
   "cell_type": "code",
   "execution_count": 25,
   "outputs": [
    {
     "name": "stderr",
     "output_type": "stream",
     "text": [
      "100%|██████████| 61/61 [09:19<00:00,  9.17s/it]\n"
     ]
    }
   ],
   "source": [
    "# ANALYSIS GROUPS\n",
    "#groups_of_cases, group_names, number_of_cases = (cases_2BP,), (\"2BP\",), len(cases_2BP)\n",
    "#groups_of_cases, group_names, number_of_cases = (cases_1BP_mid, cases_1BP_5p, cases_1BP_3p), (\"1BP_mid\", \"1BP_5p\", \"1BP_3p\"), len(cases_1BP)\n",
    "# groups_of_cases, group_names, number_of_cases = (cases_1BP_mid, cases_1BP_5p, cases_1BP_3p, cases_2BP), (\"1BP_mid\", \"1BP_5p\", \"1BP_3p\", \"2BP\"),  len(cases_1BP) + len(cases_2BP)\n",
    "# groups_of_cases, group_names, number_of_cases = (cases_oth,), (\"?\",),  len(cases_oth)\n",
    "groups_of_cases, group_names, number_of_cases = (cases_1BP_mid, cases_1BP_5p, cases_1BP_3p, cases_2BP, cases_oth), (\"1BP mid\", \"1BP 5'\", \"1BP 3'\", \"2BP\", \"undefined\"),  len(cases_1BP) + len(cases_2BP) + len(cases_oth)\n",
    "\n",
    "# ANALYSIS\n",
    "issues = {\n",
    "    \"issue_0BP\": [],\n",
    "    \"issue_2BP\": [],\n",
    "    \"issue_1BP\": [],\n",
    "    \"issue_KO\": [],\n",
    "    \"non_issue_OK\": []\n",
    "}\n",
    "\n",
    "case_n = 0\n",
    "met = False\n",
    "with open(detailed_output_file_path, \"a\") as detailed_cases_outfile:\n",
    "    with tqdm(total=number_of_cases) as progress:\n",
    "        for group_of_cases, group_name in zip(groups_of_cases, group_names):\n",
    "            for case in group_of_cases:\n",
    "                try:\n",
    "                    case_n += 1\n",
    "                    progress.update()\n",
    "\n",
    "                    # if not met and case != \"XAV\":\n",
    "                    #     continue\n",
    "                    # else:\n",
    "                    #     met = True\n",
    "                    #     pass\n",
    "                    # if not case in (\"XP\"):\n",
    "                    #     continue\n",
    "\n",
    "                    # GROUND TRUTH DATA\n",
    "                    N_seq = number_of_sequences_by_rec_case[case]\n",
    "                    parent_lineage_list = cl.contributing_to(case)\n",
    "                    breakpoints = BreakpointsLocation.all_breakpoints(case)\n",
    "                    n_breakpoints = BreakpointsLocation.breakpoints_num(case)\n",
    "                    nuc_changes = case2target[case][-1]\n",
    "\n",
    "                    # EXPERIMENT\n",
    "                    exp = Experiment(custom_environments.get(case, env), lh)\n",
    "                    exp.set_target(nuc_changes)\n",
    "                    exp.run()\n",
    "\n",
    "                    # COMPARE EXPERIMENT RESULT WITH GROUND TRUTH DATA\n",
    "                    N_seq = f\"(75%) {N_seq}\"\n",
    "                    ca = CaseAnalysis(exp, case, N_seq, case_n, group_name,\n",
    "                                      parent_lineage_list, breakpoints,\n",
    "                                      lh, cl)\n",
    "\n",
    "                    ca.print_case_details(detailed_cases_outfile)\n",
    "\n",
    "                    issues[ca.get_issue()].append(case)\n",
    "\n",
    "                    tabella_riassuntiva.append(ca.analysis_table_row())\n",
    "\n",
    "                except Exception as e:\n",
    "                        print(\"ERROR\", case, end=\" \")\n",
    "                        try:\n",
    "                            print(\"Last analysed case\", tabella_riassuntiva[-1][1], \"case n° (1-based)\", tabella_riassuntiva[-1][0])\n",
    "                        except IndexError:\n",
    "                            pass\n",
    "                        raise e\n"
   ],
   "metadata": {
    "collapsed": false
   }
  },
  {
   "cell_type": "markdown",
   "source": [
    "inspect summary table"
   ],
   "metadata": {
    "collapsed": false
   }
  },
  {
   "cell_type": "code",
   "execution_count": 26,
   "outputs": [
    {
     "data": {
      "text/plain": "   Case     N_seq  N_mut      Class                GT* OK/KO  Initial_R_span  \\\nN°                                                                             \n1    XA  (75%) 33     36    1BP mid  B.1.177 + B.1.1.7    OK      1-13,14-36   \n2   XAD  (75%) 11     69    1BP mid      BA.2* + BA.1*    OK      1-56,57-69   \n3   XAE  (75%) 18     72    1BP mid      BA.2* + BA.1*    OK      1-57,58-72   \n4   XAL  (75%) 13     67    1BP mid      BA.1* + BA.2*    OK      1-17,18-67   \n5   XAN  (75%) 36     72    1BP mid     BA.2* + BA.5.1    OK      1-11,12-72   \n..  ...       ...    ...        ...                ...   ...             ...   \n57  XBN  (75%) 19     98  undefined    BA.2.75 + XBB.3    OK      1-11,12-98   \n58  XBQ  (75%) 20     92  undefined      BA.5.2 + CJ.1    OK        1-3,4-92   \n59  XBS  (75%) 15     88  undefined     BA.2.75 + BQ.1    KO  1-3,6-29,30-88   \n60  XBV   (75%) 5     94  undefined       CR.1 + XBB.1    OK      1-25,26-94   \n61  XCA  (75%) 11     97  undefined   BA.2.75* + BQ.1*    OK      1-58,59-97   \n\n   Gap (extr escl.)                      BC Dir_L1     Rank       Br_BC  \\\nN°                                                                        \n1                      B.1.177.18 + B.1.1.7     <<      2 1       13-14   \n2                               BA.2 + BA.1     >>      1 1       56-57   \n3                               BA.2 + BA.1     >>      1 1       57-58   \n4                             BA.1.1 + BA.2     <<     11 1       17-18   \n5                          BA.2 + BA.5.1.23     <<      1 2       11-12   \n..              ...                     ...    ...      ...         ...   \n57                        BA.2.75.5 + XBB.3     <<      2 1       11-12   \n58                       BA.5.2.10 + CJ.1.1     <<    11 11         3-4   \n59      3-30 -> 3-6  BQ.1.1 + BN.1 + BQ.1.1     <<  11 11 -  5-6, 29-30   \n60                           CR.1 + XBB.1.5     <<      1 2       25-26   \n61                         BA.2.75.2 + BQ.1     >>     11 1       58-59   \n\n    Br_GT       P_L1       P_L2  \\\nN°                                \n1   12-14  1.24e-202  6.86e-101   \n2   55-57   4.11e-21  4.03e-170   \n3   55-58   1.11e-28  1.85e-168   \n4   17-19  2.40e-104   1.96e-86   \n5   21-28   2.19e-69   4.03e-17   \n..    ...        ...        ...   \n57      -  1.95e-197   6.67e-53   \n58      -  1.26e-321   1.15e-17   \n59      -   3.05e-68  2.17e-109   \n60      -  1.24e-224  2.17e-100   \n61      -  2.33e-132  2.12e-126   \n\n                                                ALT_C  \nN°                                                     \n1                                              [], []  \n2   [BA.2.34], [BA.1.14.1, BA.1.14, BA.1.1.2, BA.1...  \n3                    [], [BA.1.1, BA.1.14.1, BA.1.14]  \n4                                              [], []  \n5                       [BA.2.9, BA.2.12.1], [BA.5.1]  \n..                                                ...  \n57                               [BA.2.75], [XBB.3.1]  \n58                             [], [BM.1.1.1, BM.1.1]  \n59                                       [BN.1.3], []  \n60                                             [], []  \n61                  [], [BQ.1.1.18, BQ.1.1, BQ.1.1.1]  \n\n[61 rows x 16 columns]",
      "text/html": "<div>\n<style scoped>\n    .dataframe tbody tr th:only-of-type {\n        vertical-align: middle;\n    }\n\n    .dataframe tbody tr th {\n        vertical-align: top;\n    }\n\n    .dataframe thead th {\n        text-align: right;\n    }\n</style>\n<table border=\"1\" class=\"dataframe\">\n  <thead>\n    <tr style=\"text-align: right;\">\n      <th></th>\n      <th>Case</th>\n      <th>N_seq</th>\n      <th>N_mut</th>\n      <th>Class</th>\n      <th>GT*</th>\n      <th>OK/KO</th>\n      <th>Initial_R_span</th>\n      <th>Gap (extr escl.)</th>\n      <th>BC</th>\n      <th>Dir_L1</th>\n      <th>Rank</th>\n      <th>Br_BC</th>\n      <th>Br_GT</th>\n      <th>P_L1</th>\n      <th>P_L2</th>\n      <th>ALT_C</th>\n    </tr>\n    <tr>\n      <th>N°</th>\n      <th></th>\n      <th></th>\n      <th></th>\n      <th></th>\n      <th></th>\n      <th></th>\n      <th></th>\n      <th></th>\n      <th></th>\n      <th></th>\n      <th></th>\n      <th></th>\n      <th></th>\n      <th></th>\n      <th></th>\n      <th></th>\n    </tr>\n  </thead>\n  <tbody>\n    <tr>\n      <th>1</th>\n      <td>XA</td>\n      <td>(75%) 33</td>\n      <td>36</td>\n      <td>1BP mid</td>\n      <td>B.1.177 + B.1.1.7</td>\n      <td>OK</td>\n      <td>1-13,14-36</td>\n      <td></td>\n      <td>B.1.177.18 + B.1.1.7</td>\n      <td>&lt;&lt;</td>\n      <td>2 1</td>\n      <td>13-14</td>\n      <td>12-14</td>\n      <td>1.24e-202</td>\n      <td>6.86e-101</td>\n      <td>[], []</td>\n    </tr>\n    <tr>\n      <th>2</th>\n      <td>XAD</td>\n      <td>(75%) 11</td>\n      <td>69</td>\n      <td>1BP mid</td>\n      <td>BA.2* + BA.1*</td>\n      <td>OK</td>\n      <td>1-56,57-69</td>\n      <td></td>\n      <td>BA.2 + BA.1</td>\n      <td>&gt;&gt;</td>\n      <td>1 1</td>\n      <td>56-57</td>\n      <td>55-57</td>\n      <td>4.11e-21</td>\n      <td>4.03e-170</td>\n      <td>[BA.2.34], [BA.1.14.1, BA.1.14, BA.1.1.2, BA.1...</td>\n    </tr>\n    <tr>\n      <th>3</th>\n      <td>XAE</td>\n      <td>(75%) 18</td>\n      <td>72</td>\n      <td>1BP mid</td>\n      <td>BA.2* + BA.1*</td>\n      <td>OK</td>\n      <td>1-57,58-72</td>\n      <td></td>\n      <td>BA.2 + BA.1</td>\n      <td>&gt;&gt;</td>\n      <td>1 1</td>\n      <td>57-58</td>\n      <td>55-58</td>\n      <td>1.11e-28</td>\n      <td>1.85e-168</td>\n      <td>[], [BA.1.1, BA.1.14.1, BA.1.14]</td>\n    </tr>\n    <tr>\n      <th>4</th>\n      <td>XAL</td>\n      <td>(75%) 13</td>\n      <td>67</td>\n      <td>1BP mid</td>\n      <td>BA.1* + BA.2*</td>\n      <td>OK</td>\n      <td>1-17,18-67</td>\n      <td></td>\n      <td>BA.1.1 + BA.2</td>\n      <td>&lt;&lt;</td>\n      <td>11 1</td>\n      <td>17-18</td>\n      <td>17-19</td>\n      <td>2.40e-104</td>\n      <td>1.96e-86</td>\n      <td>[], []</td>\n    </tr>\n    <tr>\n      <th>5</th>\n      <td>XAN</td>\n      <td>(75%) 36</td>\n      <td>72</td>\n      <td>1BP mid</td>\n      <td>BA.2* + BA.5.1</td>\n      <td>OK</td>\n      <td>1-11,12-72</td>\n      <td></td>\n      <td>BA.2 + BA.5.1.23</td>\n      <td>&lt;&lt;</td>\n      <td>1 2</td>\n      <td>11-12</td>\n      <td>21-28</td>\n      <td>2.19e-69</td>\n      <td>4.03e-17</td>\n      <td>[BA.2.9, BA.2.12.1], [BA.5.1]</td>\n    </tr>\n    <tr>\n      <th>...</th>\n      <td>...</td>\n      <td>...</td>\n      <td>...</td>\n      <td>...</td>\n      <td>...</td>\n      <td>...</td>\n      <td>...</td>\n      <td>...</td>\n      <td>...</td>\n      <td>...</td>\n      <td>...</td>\n      <td>...</td>\n      <td>...</td>\n      <td>...</td>\n      <td>...</td>\n      <td>...</td>\n    </tr>\n    <tr>\n      <th>57</th>\n      <td>XBN</td>\n      <td>(75%) 19</td>\n      <td>98</td>\n      <td>undefined</td>\n      <td>BA.2.75 + XBB.3</td>\n      <td>OK</td>\n      <td>1-11,12-98</td>\n      <td></td>\n      <td>BA.2.75.5 + XBB.3</td>\n      <td>&lt;&lt;</td>\n      <td>2 1</td>\n      <td>11-12</td>\n      <td>-</td>\n      <td>1.95e-197</td>\n      <td>6.67e-53</td>\n      <td>[BA.2.75], [XBB.3.1]</td>\n    </tr>\n    <tr>\n      <th>58</th>\n      <td>XBQ</td>\n      <td>(75%) 20</td>\n      <td>92</td>\n      <td>undefined</td>\n      <td>BA.5.2 + CJ.1</td>\n      <td>OK</td>\n      <td>1-3,4-92</td>\n      <td></td>\n      <td>BA.5.2.10 + CJ.1.1</td>\n      <td>&lt;&lt;</td>\n      <td>11 11</td>\n      <td>3-4</td>\n      <td>-</td>\n      <td>1.26e-321</td>\n      <td>1.15e-17</td>\n      <td>[], [BM.1.1.1, BM.1.1]</td>\n    </tr>\n    <tr>\n      <th>59</th>\n      <td>XBS</td>\n      <td>(75%) 15</td>\n      <td>88</td>\n      <td>undefined</td>\n      <td>BA.2.75 + BQ.1</td>\n      <td>KO</td>\n      <td>1-3,6-29,30-88</td>\n      <td>3-30 -&gt; 3-6</td>\n      <td>BQ.1.1 + BN.1 + BQ.1.1</td>\n      <td>&lt;&lt;</td>\n      <td>11 11 -</td>\n      <td>5-6, 29-30</td>\n      <td>-</td>\n      <td>3.05e-68</td>\n      <td>2.17e-109</td>\n      <td>[BN.1.3], []</td>\n    </tr>\n    <tr>\n      <th>60</th>\n      <td>XBV</td>\n      <td>(75%) 5</td>\n      <td>94</td>\n      <td>undefined</td>\n      <td>CR.1 + XBB.1</td>\n      <td>OK</td>\n      <td>1-25,26-94</td>\n      <td></td>\n      <td>CR.1 + XBB.1.5</td>\n      <td>&lt;&lt;</td>\n      <td>1 2</td>\n      <td>25-26</td>\n      <td>-</td>\n      <td>1.24e-224</td>\n      <td>2.17e-100</td>\n      <td>[], []</td>\n    </tr>\n    <tr>\n      <th>61</th>\n      <td>XCA</td>\n      <td>(75%) 11</td>\n      <td>97</td>\n      <td>undefined</td>\n      <td>BA.2.75* + BQ.1*</td>\n      <td>OK</td>\n      <td>1-58,59-97</td>\n      <td></td>\n      <td>BA.2.75.2 + BQ.1</td>\n      <td>&gt;&gt;</td>\n      <td>11 1</td>\n      <td>58-59</td>\n      <td>-</td>\n      <td>2.33e-132</td>\n      <td>2.12e-126</td>\n      <td>[], [BQ.1.1.18, BQ.1.1, BQ.1.1.1]</td>\n    </tr>\n  </tbody>\n</table>\n<p>61 rows × 16 columns</p>\n</div>"
     },
     "metadata": {},
     "output_type": "display_data"
    },
    {
     "name": "stdout",
     "output_type": "stream",
     "text": [
      "0BP issue 7 ['XAS', 'XAT', 'XAV', 'XB', 'XAR', 'XN', 'XAJ']\n",
      "2BP issue 2 ['XBH', 'XBS']\n",
      "1BP issue 3 ['XAK', 'XAZ', 'XAY']\n",
      "KO 3 ['XBB', 'XM', 'XP']\n",
      "OK 46 ['XA', 'XAD', 'XAE', 'XAL', 'XAN', 'XAP', 'XBD', 'XBE', 'XBF', 'XBG', 'XBJ', 'XBM', 'XBP', 'XBR', 'XBW', 'XJ', 'XV', 'XY', 'XZ', 'XAA', 'XAB', 'XAF', 'XAG', 'XAM', 'XAU', 'XE', 'XF', 'XG', 'XH', 'XL', 'XQ', 'XR', 'XS', 'XU', 'XW', 'XAH', 'XAC', 'XBL', 'XBT', 'XBU', 'XD', 'XBK', 'XBN', 'XBQ', 'XBV', 'XCA']\n"
     ]
    }
   ],
   "source": [
    "display(pd.DataFrame(\n",
    "    tabella_riassuntiva,\n",
    "    columns=[\n",
    "        'N°', 'Case', 'N_seq', 'N_mut', 'Class', 'GT*',\n",
    "        'OK/KO', 'Initial_R_span', 'Gap (extr escl.)',\n",
    "        'BC', 'Dir_L1', 'Rank',\n",
    "        'Br_BC', 'Br_GT',\n",
    "        'P_L1', 'P_L2',\n",
    "        'ALT_C'\n",
    "    ]\n",
    "    )\n",
    "    .set_index(('N°'))\n",
    ")\n",
    "print(\"0BP issue\", len(issues[\"issue_0BP\"]), issues[\"issue_0BP\"])\n",
    "print(\"2BP issue\", len(issues[\"issue_2BP\"]), issues[\"issue_2BP\"])\n",
    "print(\"1BP issue\", len(issues[\"issue_1BP\"]), issues[\"issue_1BP\"])\n",
    "print(\"KO\", len(issues[\"issue_KO\"]), issues[\"issue_KO\"])\n",
    "print(\"OK\", len(issues[\"non_issue_OK\"]), issues[\"non_issue_OK\"])"
   ],
   "metadata": {
    "collapsed": false
   }
  },
  {
   "cell_type": "markdown",
   "source": [
    "write summary to file"
   ],
   "metadata": {
    "collapsed": false
   }
  },
  {
   "cell_type": "code",
   "execution_count": 27,
   "outputs": [],
   "source": [
    "(pd.DataFrame(\n",
    "    tabella_riassuntiva,\n",
    "    columns=[\n",
    "        'N°', 'Case', 'N_seq', 'N_mut', 'Class', 'GT*',\n",
    "        'OK/KO', 'Initial_R_span', 'Gap history (estr. escl.)',\n",
    "        'BC', 'Dir_L1', 'Rank',\n",
    "        'Br_BC', 'Br_GT',\n",
    "        'P_L1', 'P_L2',\n",
    "        'ALT_C'\n",
    "    ]\n",
    "    )\n",
    "    .set_index(('N°'))\n",
    "    .to_markdown(summary_table_file_path)\n",
    ")\n",
    "with open(summary_table_file_path, \"a\") as out:\n",
    "    out.write('\\n\\n')\n",
    "    print(\"0BP issue\", len(issues[\"issue_0BP\"]), issues[\"issue_0BP\"], file=out)\n",
    "    print(\"2BP issue\", len(issues[\"issue_2BP\"]), issues[\"issue_2BP\"], file=out)\n",
    "    print(\"1BP issue\", len(issues[\"issue_1BP\"]), issues[\"issue_1BP\"], file=out)\n",
    "    print(\"KO\", len(issues[\"issue_KO\"]), issues[\"issue_KO\"], file=out)\n",
    "    print(\"OK\", len(issues[\"non_issue_OK\"]), issues[\"non_issue_OK\"], file=out)"
   ],
   "metadata": {
    "collapsed": false
   }
  }
 ],
 "metadata": {
  "kernelspec": {
   "display_name": "Python 3",
   "language": "python",
   "name": "python3"
  },
  "language_info": {
   "codemirror_mode": {
    "name": "ipython",
    "version": 2
   },
   "file_extension": ".py",
   "mimetype": "text/x-python",
   "name": "python",
   "nbconvert_exporter": "python",
   "pygments_lexer": "ipython2",
   "version": "2.7.6"
  }
 },
 "nbformat": 4,
 "nbformat_minor": 0
}
